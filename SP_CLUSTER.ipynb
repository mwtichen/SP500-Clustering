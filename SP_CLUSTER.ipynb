{
 "cells": [
  {
   "cell_type": "markdown",
   "metadata": {},
   "source": [
    "# Clustering Stock Market Data"
   ]
  },
  {
   "cell_type": "markdown",
   "metadata": {},
   "source": [
    "In this project, I'll be discovering the groupings of stocks in the stock market dataset that I cleaned in a previous project. The task, discovering natural groups, is called clustering; and I'll be testing two different clustering algorithms, K-Means Clustering and Hierarchical Clustering."
   ]
  },
  {
   "cell_type": "markdown",
   "metadata": {},
   "source": [
    "## Loading the Data"
   ]
  },
  {
   "cell_type": "markdown",
   "metadata": {},
   "source": [
    "I'll start by loading then printing the first few rows of the cleaned dataset."
   ]
  },
  {
   "cell_type": "code",
   "execution_count": 1,
   "metadata": {},
   "outputs": [
    {
     "data": {
      "text/html": [
       "<div>\n",
       "<style>\n",
       "    .dataframe thead tr:only-child th {\n",
       "        text-align: right;\n",
       "    }\n",
       "\n",
       "    .dataframe thead th {\n",
       "        text-align: left;\n",
       "    }\n",
       "\n",
       "    .dataframe tbody tr th {\n",
       "        vertical-align: top;\n",
       "    }\n",
       "</style>\n",
       "<table border=\"1\" class=\"dataframe\">\n",
       "  <thead>\n",
       "    <tr style=\"text-align: right;\">\n",
       "      <th></th>\n",
       "      <th>P/E</th>\n",
       "      <th>EPS (ttm)</th>\n",
       "      <th>Insider Own</th>\n",
       "      <th>Shs Outstand</th>\n",
       "      <th>Perf Week</th>\n",
       "      <th>Market Cap</th>\n",
       "      <th>Forward P/E</th>\n",
       "      <th>EPS next Y</th>\n",
       "      <th>Insider Trans</th>\n",
       "      <th>Shs Float</th>\n",
       "      <th>...</th>\n",
       "      <th>SMA20</th>\n",
       "      <th>SMA50</th>\n",
       "      <th>SMA200</th>\n",
       "      <th>Volume</th>\n",
       "      <th>Change</th>\n",
       "      <th>avg_daily_high_range</th>\n",
       "      <th>avg_daily_low_range</th>\n",
       "      <th>Earnings_BMO</th>\n",
       "      <th>Earnings_AMC</th>\n",
       "      <th>DJIA</th>\n",
       "    </tr>\n",
       "  </thead>\n",
       "  <tbody>\n",
       "    <tr>\n",
       "      <th>A</th>\n",
       "      <td>24.42</td>\n",
       "      <td>2.68</td>\n",
       "      <td>0.0030</td>\n",
       "      <td>3.219200e+08</td>\n",
       "      <td>-0.0153</td>\n",
       "      <td>2.107000e+10</td>\n",
       "      <td>19.41</td>\n",
       "      <td>3.37</td>\n",
       "      <td>-0.0517</td>\n",
       "      <td>3.178900e+08</td>\n",
       "      <td>...</td>\n",
       "      <td>-0.0354</td>\n",
       "      <td>-0.0213</td>\n",
       "      <td>-0.0122</td>\n",
       "      <td>3119738.0</td>\n",
       "      <td>0.0346</td>\n",
       "      <td>0.0296</td>\n",
       "      <td>0.0314</td>\n",
       "      <td>0</td>\n",
       "      <td>1</td>\n",
       "      <td>0</td>\n",
       "    </tr>\n",
       "    <tr>\n",
       "      <th>AA</th>\n",
       "      <td>977.24</td>\n",
       "      <td>0.03</td>\n",
       "      <td>0.0010</td>\n",
       "      <td>1.956900e+08</td>\n",
       "      <td>0.0434</td>\n",
       "      <td>5.550000e+09</td>\n",
       "      <td>8.01</td>\n",
       "      <td>3.54</td>\n",
       "      <td>0.0000</td>\n",
       "      <td>1.859900e+08</td>\n",
       "      <td>...</td>\n",
       "      <td>0.0206</td>\n",
       "      <td>-0.1095</td>\n",
       "      <td>-0.3325</td>\n",
       "      <td>5652866.0</td>\n",
       "      <td>0.0800</td>\n",
       "      <td>0.0522</td>\n",
       "      <td>0.0511</td>\n",
       "      <td>0</td>\n",
       "      <td>1</td>\n",
       "      <td>0</td>\n",
       "    </tr>\n",
       "    <tr>\n",
       "      <th>AAL</th>\n",
       "      <td>6.94</td>\n",
       "      <td>4.62</td>\n",
       "      <td>0.0020</td>\n",
       "      <td>4.770100e+08</td>\n",
       "      <td>0.0000</td>\n",
       "      <td>1.528000e+10</td>\n",
       "      <td>5.63</td>\n",
       "      <td>5.69</td>\n",
       "      <td>0.0438</td>\n",
       "      <td>4.575900e+08</td>\n",
       "      <td>...</td>\n",
       "      <td>-0.0225</td>\n",
       "      <td>-0.0781</td>\n",
       "      <td>-0.1946</td>\n",
       "      <td>9344567.0</td>\n",
       "      <td>0.0659</td>\n",
       "      <td>0.0554</td>\n",
       "      <td>0.0530</td>\n",
       "      <td>1</td>\n",
       "      <td>0</td>\n",
       "      <td>0</td>\n",
       "    </tr>\n",
       "    <tr>\n",
       "      <th>AAP</th>\n",
       "      <td>34.34</td>\n",
       "      <td>4.63</td>\n",
       "      <td>0.0010</td>\n",
       "      <td>7.411000e+07</td>\n",
       "      <td>0.0266</td>\n",
       "      <td>1.177000e+10</td>\n",
       "      <td>19.50</td>\n",
       "      <td>8.14</td>\n",
       "      <td>0.0027</td>\n",
       "      <td>7.268000e+07</td>\n",
       "      <td>...</td>\n",
       "      <td>-0.0136</td>\n",
       "      <td>-0.0501</td>\n",
       "      <td>0.0871</td>\n",
       "      <td>1423037.0</td>\n",
       "      <td>-0.0248</td>\n",
       "      <td>0.0318</td>\n",
       "      <td>0.0320</td>\n",
       "      <td>1</td>\n",
       "      <td>0</td>\n",
       "      <td>0</td>\n",
       "    </tr>\n",
       "    <tr>\n",
       "      <th>AAPL</th>\n",
       "      <td>12.21</td>\n",
       "      <td>12.15</td>\n",
       "      <td>0.0007</td>\n",
       "      <td>4.870000e+09</td>\n",
       "      <td>-0.0505</td>\n",
       "      <td>7.222400e+11</td>\n",
       "      <td>10.13</td>\n",
       "      <td>14.64</td>\n",
       "      <td>-0.1491</td>\n",
       "      <td>4.740000e+09</td>\n",
       "      <td>...</td>\n",
       "      <td>-0.0838</td>\n",
       "      <td>-0.1921</td>\n",
       "      <td>-0.2319</td>\n",
       "      <td>57275863.0</td>\n",
       "      <td>0.0427</td>\n",
       "      <td>0.0267</td>\n",
       "      <td>0.0341</td>\n",
       "      <td>0</td>\n",
       "      <td>1</td>\n",
       "      <td>1</td>\n",
       "    </tr>\n",
       "  </tbody>\n",
       "</table>\n",
       "<p>5 rows × 74 columns</p>\n",
       "</div>"
      ],
      "text/plain": [
       "         P/E  EPS (ttm)  Insider Own  Shs Outstand  Perf Week    Market Cap  \\\n",
       "A      24.42       2.68       0.0030  3.219200e+08    -0.0153  2.107000e+10   \n",
       "AA    977.24       0.03       0.0010  1.956900e+08     0.0434  5.550000e+09   \n",
       "AAL     6.94       4.62       0.0020  4.770100e+08     0.0000  1.528000e+10   \n",
       "AAP    34.34       4.63       0.0010  7.411000e+07     0.0266  1.177000e+10   \n",
       "AAPL   12.21      12.15       0.0007  4.870000e+09    -0.0505  7.222400e+11   \n",
       "\n",
       "      Forward P/E  EPS next Y  Insider Trans     Shs Float  ...    SMA20  \\\n",
       "A           19.41        3.37        -0.0517  3.178900e+08  ...  -0.0354   \n",
       "AA           8.01        3.54         0.0000  1.859900e+08  ...   0.0206   \n",
       "AAL          5.63        5.69         0.0438  4.575900e+08  ...  -0.0225   \n",
       "AAP         19.50        8.14         0.0027  7.268000e+07  ...  -0.0136   \n",
       "AAPL        10.13       14.64        -0.1491  4.740000e+09  ...  -0.0838   \n",
       "\n",
       "       SMA50  SMA200      Volume  Change  avg_daily_high_range  \\\n",
       "A    -0.0213 -0.0122   3119738.0  0.0346                0.0296   \n",
       "AA   -0.1095 -0.3325   5652866.0  0.0800                0.0522   \n",
       "AAL  -0.0781 -0.1946   9344567.0  0.0659                0.0554   \n",
       "AAP  -0.0501  0.0871   1423037.0 -0.0248                0.0318   \n",
       "AAPL -0.1921 -0.2319  57275863.0  0.0427                0.0267   \n",
       "\n",
       "      avg_daily_low_range  Earnings_BMO  Earnings_AMC  DJIA  \n",
       "A                  0.0314             0             1     0  \n",
       "AA                 0.0511             0             1     0  \n",
       "AAL                0.0530             1             0     0  \n",
       "AAP                0.0320             1             0     0  \n",
       "AAPL               0.0341             0             1     1  \n",
       "\n",
       "[5 rows x 74 columns]"
      ]
     },
     "execution_count": 1,
     "metadata": {},
     "output_type": "execute_result"
    }
   ],
   "source": [
    "import pandas as pd\n",
    "\n",
    "df = pd.read_csv('clean_sp500.csv',index_col=0)\n",
    "\n",
    "df.head()"
   ]
  },
  {
   "cell_type": "markdown",
   "metadata": {},
   "source": [
    "There are 74 columns in the datset.\n",
    "\n",
    "The code below converts the column names to a list, then prints it out."
   ]
  },
  {
   "cell_type": "code",
   "execution_count": 2,
   "metadata": {},
   "outputs": [
    {
     "name": "stdout",
     "output_type": "stream",
     "text": [
      "['P/E', 'EPS (ttm)', 'Insider Own', 'Shs Outstand', 'Perf Week', 'Market Cap', 'Forward P/E', 'EPS next Y', 'Insider Trans', 'Shs Float', 'Perf Month', 'Income', 'PEG', 'EPS next Q', 'Inst Own', 'Short Float', 'Perf Quarter', 'Sales', 'P/S', 'EPS this Y', 'Inst Trans', 'Short Ratio', 'Perf Half Y', 'Book/sh', 'P/B', 'EPS next Y.1', 'ROA', 'Target Price', 'Perf Year', 'Cash/sh', 'P/C', 'EPS next 5Y', 'ROE', 'Perf YTD', 'Dividend', 'P/FCF', 'EPS past 5Y', 'ROI', '52W High', 'Beta', 'Dividend %', 'Quick Ratio', 'Sales past 5Y', 'Gross Margin', '52W Low', 'ATR', 'Employees', 'Current Ratio', 'Sales Q/Q', 'Oper. Margin', 'RSI (14)', 'Optionable', 'Debt/Eq', 'EPS Q/Q', 'Profit Margin', 'Rel Volume', 'Prev Close', 'Shortable', 'LT Debt/Eq', 'Earnings', 'Payout', 'Avg Volume', 'Price', 'Recom', 'SMA20', 'SMA50', 'SMA200', 'Volume', 'Change', 'avg_daily_high_range', 'avg_daily_low_range', 'Earnings_BMO', 'Earnings_AMC', 'DJIA']\n"
     ]
    }
   ],
   "source": [
    "cols = df.columns.tolist()\n",
    "print(cols)"
   ]
  },
  {
   "cell_type": "markdown",
   "metadata": {},
   "source": [
    "## Dropping Columns"
   ]
  },
  {
   "cell_type": "markdown",
   "metadata": {},
   "source": [
    "For this task, I'd like to use only numeric columns.\n",
    "\n",
    "Time to remove columns that are categorical."
   ]
  },
  {
   "cell_type": "code",
   "execution_count": 3,
   "metadata": {
    "collapsed": true
   },
   "outputs": [],
   "source": [
    "cols.remove('DJIA')\n",
    "cols.remove('Earnings_BMO')\n",
    "cols.remove('Earnings_AMC')\n",
    "cols.remove('Optionable')\n",
    "cols.remove('Shortable')"
   ]
  },
  {
   "cell_type": "markdown",
   "metadata": {},
   "source": [
    "I'll also remove columns that are technical indicators based on the price, e.g. SMA2O."
   ]
  },
  {
   "cell_type": "code",
   "execution_count": 4,
   "metadata": {
    "collapsed": true
   },
   "outputs": [],
   "source": [
    "cols.remove('ATR')\n",
    "cols.remove('RSI (14)')\n",
    "cols.remove('SMA20')\n",
    "cols.remove('SMA50')\n",
    "cols.remove('SMA200')"
   ]
  },
  {
   "cell_type": "markdown",
   "metadata": {},
   "source": [
    "I'll also remove the columns that aren't measurements on an annual basis."
   ]
  },
  {
   "cell_type": "code",
   "execution_count": 5,
   "metadata": {
    "collapsed": true
   },
   "outputs": [],
   "source": [
    "cols.remove('Perf Week')\n",
    "cols.remove('Perf Month')\n",
    "cols.remove('Perf Quarter')\n",
    "cols.remove('Perf Half Y')\n",
    "cols.remove('Perf YTD')\n",
    "cols.remove('Avg Volume')\n",
    "cols.remove('Change')\n",
    "cols.remove('avg_daily_high_range')\n",
    "cols.remove('avg_daily_low_range')\n",
    "cols.remove('Rel Volume')\n",
    "cols.remove('Volume')\n",
    "cols.remove('Price')\n",
    "cols.remove('Prev Close')\n",
    "cols.remove('EPS next Q')\n",
    "cols.remove('EPS Q/Q')"
   ]
  },
  {
   "cell_type": "markdown",
   "metadata": {},
   "source": [
    "Lastly, I'll remove earnings, since there's already an Eearings Per Share column."
   ]
  },
  {
   "cell_type": "code",
   "execution_count": 6,
   "metadata": {
    "collapsed": true
   },
   "outputs": [],
   "source": [
    "cols.remove('Earnings')"
   ]
  },
  {
   "cell_type": "markdown",
   "metadata": {},
   "source": [
    "Here are the remaining columns."
   ]
  },
  {
   "cell_type": "code",
   "execution_count": 7,
   "metadata": {},
   "outputs": [
    {
     "name": "stdout",
     "output_type": "stream",
     "text": [
      "['P/E', 'EPS (ttm)', 'Insider Own', 'Shs Outstand', 'Market Cap', 'Forward P/E', 'EPS next Y', 'Insider Trans', 'Shs Float', 'Income', 'PEG', 'Inst Own', 'Short Float', 'Sales', 'P/S', 'EPS this Y', 'Inst Trans', 'Short Ratio', 'Book/sh', 'P/B', 'EPS next Y.1', 'ROA', 'Target Price', 'Perf Year', 'Cash/sh', 'P/C', 'EPS next 5Y', 'ROE', 'Dividend', 'P/FCF', 'EPS past 5Y', 'ROI', '52W High', 'Beta', 'Dividend %', 'Quick Ratio', 'Sales past 5Y', 'Gross Margin', '52W Low', 'Employees', 'Current Ratio', 'Sales Q/Q', 'Oper. Margin', 'Debt/Eq', 'Profit Margin', 'LT Debt/Eq', 'Payout', 'Recom']\n"
     ]
    }
   ],
   "source": [
    "print(cols)"
   ]
  },
  {
   "cell_type": "markdown",
   "metadata": {},
   "source": [
    "## Imputing and Transforming the Data"
   ]
  },
  {
   "cell_type": "markdown",
   "metadata": {},
   "source": [
    "Several columns have missing values."
   ]
  },
  {
   "cell_type": "code",
   "execution_count": 8,
   "metadata": {},
   "outputs": [
    {
     "data": {
      "text/plain": [
       "P/E               38\n",
       "EPS (ttm)          0\n",
       "Insider Own        4\n",
       "Shs Outstand       4\n",
       "Market Cap         4\n",
       "Forward P/E        6\n",
       "EPS next Y         4\n",
       "Insider Trans     18\n",
       "Shs Float          1\n",
       "Income             8\n",
       "PEG               59\n",
       "Inst Own          48\n",
       "Short Float        1\n",
       "Sales              0\n",
       "P/S                4\n",
       "EPS this Y         5\n",
       "Inst Trans        10\n",
       "Short Ratio        0\n",
       "Book/sh            0\n",
       "P/B               24\n",
       "EPS next Y.1       4\n",
       "ROA               16\n",
       "Target Price       1\n",
       "Perf Year          1\n",
       "Cash/sh           35\n",
       "P/C               35\n",
       "EPS next 5Y       13\n",
       "ROE               21\n",
       "Dividend          94\n",
       "P/FCF             72\n",
       "EPS past 5Y       11\n",
       "ROI                8\n",
       "52W High           0\n",
       "Beta              16\n",
       "Dividend %        94\n",
       "Quick Ratio      101\n",
       "Sales past 5Y     12\n",
       "Gross Margin      73\n",
       "52W Low            0\n",
       "Employees          0\n",
       "Current Ratio     95\n",
       "Sales Q/Q          0\n",
       "Oper. Margin      15\n",
       "Debt/Eq           31\n",
       "Profit Margin     16\n",
       "LT Debt/Eq        31\n",
       "Payout            53\n",
       "Recom              1\n",
       "dtype: int64"
      ]
     },
     "execution_count": 8,
     "metadata": {},
     "output_type": "execute_result"
    }
   ],
   "source": [
    "df[cols].isnull().sum()"
   ]
  },
  {
   "cell_type": "markdown",
   "metadata": {},
   "source": [
    "A quick and easy way of filling-in missing values is mean imputation. The SkLearn library's Imputer, by default, uses the column mean to fill in missing values.\n",
    "\n",
    "I'll proceed by using this imputer to fill-in the missing values."
   ]
  },
  {
   "cell_type": "code",
   "execution_count": 9,
   "metadata": {
    "collapsed": true
   },
   "outputs": [],
   "source": [
    "from sklearn.preprocessing import Imputer\n",
    "imp = Imputer()\n",
    "X = imp.fit_transform(df[cols])"
   ]
  },
  {
   "cell_type": "markdown",
   "metadata": {},
   "source": [
    "Some columns are ratios around 0 and 1, e.g. Beta, while other columns take on values in the hundreds or thousands e.g. Employees.\n",
    "\n",
    "To put all columns on the same scale, I'll use SKLearn's StandScaler."
   ]
  },
  {
   "cell_type": "code",
   "execution_count": 10,
   "metadata": {
    "collapsed": true
   },
   "outputs": [],
   "source": [
    "from sklearn.preprocessing import StandardScaler\n",
    "sc = StandardScaler()\n",
    "X = sc.fit_transform(X)"
   ]
  },
  {
   "cell_type": "markdown",
   "metadata": {},
   "source": [
    "The newly transformed dataset is printed below."
   ]
  },
  {
   "cell_type": "code",
   "execution_count": 11,
   "metadata": {},
   "outputs": [
    {
     "name": "stdout",
     "output_type": "stream",
     "text": [
      "[[ -5.72209668e-02  -3.32255087e-01  -2.36944411e-01 ...,  -2.39475469e-01\n",
      "    1.19066649e-01  -1.27774489e+00]\n",
      " [  1.78864412e+00  -7.47329693e-01  -2.64688945e-01 ...,  -2.49076769e-01\n",
      "    0.00000000e+00  -7.75809250e-01]\n",
      " [ -9.10843636e-02  -2.83891490e-02  -2.50816678e-01 ...,  -5.32979230e-17\n",
      "   -5.09414425e-01  -7.75809250e-01]\n",
      " ..., \n",
      " [ -1.88049966e-02  -3.83943623e-01  -2.64688945e-01 ...,  -1.65065392e-01\n",
      "   -4.29967607e-01   2.28062026e-01]\n",
      " [ -8.28122409e-02  -1.56827329e-01  -1.67583077e-01 ...,  -3.01883920e-01\n",
      "   -3.70382494e-01  -7.75809250e-01]\n",
      " [ -4.86195090e-02  -2.91530786e-01  -4.81290943e-17 ...,   3.96610673e-01\n",
      "   -4.20036755e-01  -1.02677707e+00]]\n"
     ]
    }
   ],
   "source": [
    "print(X)"
   ]
  },
  {
   "cell_type": "markdown",
   "metadata": {},
   "source": [
    "## Testing Clustering"
   ]
  },
  {
   "cell_type": "markdown",
   "metadata": {},
   "source": [
    "The first algorithm I'll test is the K Means algorithm. There are tons of tutorials out there, so I won't be going into any details on this one. I will briefly mention the [Silhouette Coefficient](https://en.wikipedia.org/wiki/Silhouette_(clustering)).\n",
    "\n",
    "Since I don't know the what the groupings are, I need to have some method of deciding whether one particular clustering of the dataset is better than another. Fortunately, the silhouette coefficient is a clustering metric that more or less measures the quality of the clustering. \n",
    "\n",
    "Now, let's try the K-Means aglorithm. I'll test clusters of size 2 through 14, using the number 1 as the random seed."
   ]
  },
  {
   "cell_type": "code",
   "execution_count": 12,
   "metadata": {},
   "outputs": [
    {
     "name": "stdout",
     "output_type": "stream",
     "text": [
      "[0.28613964567558942, 0.058263250277084754, 0.084970444328218542, 0.067354713820520523, 0.082647567914439155, 0.085480498906524149, 0.052720811279242566, 0.086926028635745251, 0.036877160455453327, 0.056637393376251906, 0.044295808291580162, 0.040185227201850547, 0.05250317910361451]\n"
     ]
    }
   ],
   "source": [
    "from sklearn.cluster import KMeans\n",
    "from sklearn.metrics import silhouette_score\n",
    "clusters = [2,3,4,5,6,7,8,9,10,11,12,13,14]\n",
    "scores = []\n",
    "for k in clusters:\n",
    "    km = KMeans(n_clusters=k, random_state=1)\n",
    "    labels = km.fit_predict(X)\n",
    "    score = silhouette_score(X,labels)\n",
    "    scores.append(score)\n",
    "print(scores)"
   ]
  },
  {
   "cell_type": "markdown",
   "metadata": {},
   "source": [
    "Out of the values tested, K-Means with 2 clusters had the highest silhouette coefficient of 28.6%. Using Berkeley's [document[(https://www.stat.berkeley.edu/~spector/s133/Clus.html) on clustering, this clustering \"... is weak and could be artificial\".\n",
    "\n",
    "With Hierarchical Clustering, a.k.a. Agglomerative Clustering, we can see a clustering that has a 41.8% mean silhouette coefficient."
   ]
  },
  {
   "cell_type": "code",
   "execution_count": 13,
   "metadata": {},
   "outputs": [
    {
     "name": "stdout",
     "output_type": "stream",
     "text": [
      "[0.4151196516648849, 0.41823328412664657, 0.15361579825008226, 0.15885129659825639, 0.16518606174752906, 0.040087502838171946, 0.036650334796602756, 0.038148317924660793, 0.040280100770976206, 0.039929458062292589, 0.041618786186416706, 0.043549690049081845, 0.046696808647464144]\n"
     ]
    }
   ],
   "source": [
    "from sklearn.cluster import AgglomerativeClustering\n",
    "scores = []\n",
    "for k in clusters:\n",
    "    ag = AgglomerativeClustering(n_clusters=k)\n",
    "    labels = ag.fit_predict(X)\n",
    "    score = silhouette_score(X,labels)\n",
    "    scores.append(score)\n",
    "print(scores)"
   ]
  },
  {
   "cell_type": "markdown",
   "metadata": {},
   "source": [
    "By default, SKLearn's [AgglomerativeClustering](https://scikit-learn.org/stable/modules/generated/sklearn.cluster.AgglomerativeClustering.html#sklearn.cluster.AgglomerativeClustering) class uses Ward linkage as the linkage criterion.  \n",
    "\n",
    "Let's see how this performs with the average distance as the linakge criterion."
   ]
  },
  {
   "cell_type": "code",
   "execution_count": 14,
   "metadata": {},
   "outputs": [
    {
     "name": "stdout",
     "output_type": "stream",
     "text": [
      "[[ -5.72209668e-02  -3.32255087e-01  -2.36944411e-01 ...,  -2.39475469e-01\n",
      "    1.19066649e-01  -1.27774489e+00]\n",
      " [  1.78864412e+00  -7.47329693e-01  -2.64688945e-01 ...,  -2.49076769e-01\n",
      "    0.00000000e+00  -7.75809250e-01]\n",
      " [ -9.10843636e-02  -2.83891490e-02  -2.50816678e-01 ...,  -5.32979230e-17\n",
      "   -5.09414425e-01  -7.75809250e-01]\n",
      " ..., \n",
      " [ -1.88049966e-02  -3.83943623e-01  -2.64688945e-01 ...,  -1.65065392e-01\n",
      "   -4.29967607e-01   2.28062026e-01]\n",
      " [ -8.28122409e-02  -1.56827329e-01  -1.67583077e-01 ...,  -3.01883920e-01\n",
      "   -3.70382494e-01  -7.75809250e-01]\n",
      " [ -4.86195090e-02  -2.91530786e-01  -4.81290943e-17 ...,   3.96610673e-01\n",
      "   -4.20036755e-01  -1.02677707e+00]]\n"
     ]
    }
   ],
   "source": [
    "print(X)"
   ]
  },
  {
   "cell_type": "code",
   "execution_count": 15,
   "metadata": {},
   "outputs": [
    {
     "name": "stdout",
     "output_type": "stream",
     "text": [
      "[0.73268355859199552, 0.67166852470703164, 0.65460606958008316, 0.63613358576477941, 0.62577964809393705, 0.61639289121041529, 0.61185732207862864, 0.58559575356230853, 0.54027480942087103, 0.52733672652836738, 0.5136180330924579, 0.49716004744155823, 0.48318336280119178]\n"
     ]
    }
   ],
   "source": [
    "from sklearn.cluster import AgglomerativeClustering\n",
    "scores = []\n",
    "for k in clusters:\n",
    "    ag = AgglomerativeClustering(n_clusters=k,linkage='average')\n",
    "    labels = ag.fit_predict(X)\n",
    "    score = silhouette_score(X,labels)\n",
    "    scores.append(score)\n",
    "print(scores)"
   ]
  },
  {
   "cell_type": "markdown",
   "metadata": {},
   "source": [
    "73.3% is a huge improvement. According to the Berkely document \"a strong structure has been found\".\n",
    "\n",
    "Still, I could try to use the maximum distance as the linakge criterion."
   ]
  },
  {
   "cell_type": "code",
   "execution_count": 16,
   "metadata": {},
   "outputs": [
    {
     "name": "stdout",
     "output_type": "stream",
     "text": [
      "[0.73268355859199552, 0.67166852470703164, 0.64452529409352832, 0.51123584737459593, 0.51241300835363124, 0.51345320800080596, 0.51408841309809361, 0.51344234553632606, 0.37621543322357126, 0.37880114572405005, 0.36968533994931718, 0.37123706480478058, 0.37283731382161062]\n"
     ]
    }
   ],
   "source": [
    "from sklearn.cluster import AgglomerativeClustering\n",
    "scores = []\n",
    "for k in clusters:\n",
    "    ag = AgglomerativeClustering(n_clusters=k,linkage='complete')\n",
    "    labels = ag.fit_predict(X)\n",
    "    score = silhouette_score(X,labels)\n",
    "    scores.append(score)\n",
    "print(scores)"
   ]
  },
  {
   "cell_type": "markdown",
   "metadata": {},
   "source": [
    "Hierarchical Clustering with either 'complete' or 'average' linkage and 2 clusters provides the best clustering, with a mean silhouette coefficient of 73.3%."
   ]
  },
  {
   "cell_type": "markdown",
   "metadata": {},
   "source": [
    "## Visualing the Clustering"
   ]
  },
  {
   "cell_type": "markdown",
   "metadata": {},
   "source": [
    "You can visualize the clustering from Hierarchical Clustering by using a tree-like diagram called a [dendrogram](https://en.wikipedia.org/wiki/Dendrogram). \n",
    "\n",
    "The dendrogram puts the distance between clusters on the y-axis, and the row labels on the x-axis. With a dendrogram you see which observations are closer to one another.\n",
    "\n",
    "The code below plots a dendrogram for the Hierarchical Clustering with maximum distance as the linkage criterion."
   ]
  },
  {
   "cell_type": "code",
   "execution_count": 17,
   "metadata": {},
   "outputs": [
    {
     "data": {
      "image/png": "[encoded data removed]",
      "text/plain": [
       "<matplotlib.figure.Figure at 0x1bc361d7048>"
      ]
     },
     "metadata": {},
     "output_type": "display_data"
    }
   ],
   "source": [
    "import numpy as np\n",
    "from matplotlib import pyplot as plt\n",
    "from scipy.cluster.hierarchy import dendrogram\n",
    "\n",
    "cl = AgglomerativeClustering(n_clusters=2,linkage='complete')\n",
    "cl.fit(X)\n",
    "\n",
    "children = cl.children_\n",
    "distance = np.arange(children.shape[0])\n",
    "no_of_observations = np.arange(2, children.shape[0]+2)\n",
    "linkage_matrix = np.column_stack([children, distance, no_of_observations]).astype(float)\n",
    "\n",
    "plt.figure(figsize=(25, 15))\n",
    "plt.title('Hierarchical Clustering Dendrogram')\n",
    "plt.xlabel('sample index')\n",
    "plt.ylabel('distance')\n",
    "plt.title('Hierarchical Clustering Dendrogram')\n",
    "dendrogram(linkage_matrix, labels=cl.labels_)\n",
    "plt.show()"
   ]
  },
  {
   "cell_type": "markdown",
   "metadata": {},
   "source": [
    "## Analyzing the Clusters"
   ]
  },
  {
   "cell_type": "markdown",
   "metadata": {},
   "source": [
    "The dendrogram in the last section looked pretty cool, but it wasn't clear which stocks were in each cluster.\n",
    "\n",
    "Interestingly, all except 1 stock is in the first cluster."
   ]
  },
  {
   "cell_type": "code",
   "execution_count": 18,
   "metadata": {},
   "outputs": [
    {
     "data": {
      "text/plain": [
       "504"
      ]
     },
     "execution_count": 18,
     "metadata": {},
     "output_type": "execute_result"
    }
   ],
   "source": [
    "df['Cluster'] = cl.fit_predict(X)\n",
    "df.loc[df['Cluster'] == 0,:].shape[0]"
   ]
  },
  {
   "cell_type": "markdown",
   "metadata": {},
   "source": [
    "Only 1 stock, Masco Corporation, was in the second cluster."
   ]
  },
  {
   "cell_type": "code",
   "execution_count": 19,
   "metadata": {},
   "outputs": [
    {
     "data": {
      "text/html": [
       "<div>\n",
       "<style>\n",
       "    .dataframe thead tr:only-child th {\n",
       "        text-align: right;\n",
       "    }\n",
       "\n",
       "    .dataframe thead th {\n",
       "        text-align: left;\n",
       "    }\n",
       "\n",
       "    .dataframe tbody tr th {\n",
       "        vertical-align: top;\n",
       "    }\n",
       "</style>\n",
       "<table border=\"1\" class=\"dataframe\">\n",
       "  <thead>\n",
       "    <tr style=\"text-align: right;\">\n",
       "      <th></th>\n",
       "      <th>P/E</th>\n",
       "      <th>EPS (ttm)</th>\n",
       "      <th>Insider Own</th>\n",
       "      <th>Shs Outstand</th>\n",
       "      <th>Market Cap</th>\n",
       "      <th>Forward P/E</th>\n",
       "      <th>EPS next Y</th>\n",
       "      <th>Insider Trans</th>\n",
       "      <th>Shs Float</th>\n",
       "      <th>Income</th>\n",
       "      <th>...</th>\n",
       "      <th>52W Low</th>\n",
       "      <th>Employees</th>\n",
       "      <th>Current Ratio</th>\n",
       "      <th>Sales Q/Q</th>\n",
       "      <th>Oper. Margin</th>\n",
       "      <th>Debt/Eq</th>\n",
       "      <th>Profit Margin</th>\n",
       "      <th>LT Debt/Eq</th>\n",
       "      <th>Payout</th>\n",
       "      <th>Recom</th>\n",
       "    </tr>\n",
       "  </thead>\n",
       "  <tbody>\n",
       "    <tr>\n",
       "      <th>MAS</th>\n",
       "      <td>15.72</td>\n",
       "      <td>1.96</td>\n",
       "      <td>0.004</td>\n",
       "      <td>316150000.0</td>\n",
       "      <td>9.720000e+09</td>\n",
       "      <td>11.21</td>\n",
       "      <td>2.74</td>\n",
       "      <td>-0.2453</td>\n",
       "      <td>302470000.0</td>\n",
       "      <td>606000000.0</td>\n",
       "      <td>...</td>\n",
       "      <td>0.1373</td>\n",
       "      <td>26000</td>\n",
       "      <td>1.7</td>\n",
       "      <td>0.08</td>\n",
       "      <td>0.135</td>\n",
       "      <td>82.58</td>\n",
       "      <td>0.076</td>\n",
       "      <td>82.53</td>\n",
       "      <td>0.207</td>\n",
       "      <td>2.0</td>\n",
       "    </tr>\n",
       "  </tbody>\n",
       "</table>\n",
       "<p>1 rows × 48 columns</p>\n",
       "</div>"
      ],
      "text/plain": [
       "       P/E  EPS (ttm)  Insider Own  Shs Outstand    Market Cap  Forward P/E  \\\n",
       "MAS  15.72       1.96        0.004   316150000.0  9.720000e+09        11.21   \n",
       "\n",
       "     EPS next Y  Insider Trans    Shs Float       Income  ...    52W Low  \\\n",
       "MAS        2.74        -0.2453  302470000.0  606000000.0  ...     0.1373   \n",
       "\n",
       "     Employees  Current Ratio  Sales Q/Q  Oper. Margin  Debt/Eq  \\\n",
       "MAS      26000            1.7       0.08         0.135    82.58   \n",
       "\n",
       "     Profit Margin  LT Debt/Eq  Payout  Recom  \n",
       "MAS          0.076       82.53   0.207    2.0  \n",
       "\n",
       "[1 rows x 48 columns]"
      ]
     },
     "execution_count": 19,
     "metadata": {},
     "output_type": "execute_result"
    }
   ],
   "source": [
    "df.loc[df['Cluster'] == 1,cols]"
   ]
  },
  {
   "cell_type": "markdown",
   "metadata": {},
   "source": [
    "## Conclusion"
   ]
  },
  {
   "cell_type": "markdown",
   "metadata": {
    "collapsed": true
   },
   "source": [
    "While it wasn't my intention to identify an outlier in the dataset, the clustering algorithm I chose did find an unusual observation.\n",
    "\n",
    "This shouldn't be too suprising since Anomaly Detection is an [application of clustering](https://en.wikipedia.org/wiki/Cluster_analysis#Computer_science).\n",
    "\n",
    "I think I'll use another dataset in my next project.\n",
    "\n",
    "As always, thanks for reading."
   ]
  },
  {
   "cell_type": "code",
   "execution_count": null,
   "metadata": {
    "collapsed": true
   },
   "outputs": [],
   "source": []
  }
 ],
 "metadata": {
  "kernelspec": {
   "display_name": "Python 3",
   "language": "python",
   "name": "python3"
  },
  "language_info": {
   "codemirror_mode": {
    "name": "ipython",
    "version": 3
   },
   "file_extension": ".py",
   "mimetype": "text/x-python",
   "name": "python",
   "nbconvert_exporter": "python",
   "pygments_lexer": "ipython3",
   "version": "3.6.1"
  }
 },
 "nbformat": 4,
 "nbformat_minor": 2
}
